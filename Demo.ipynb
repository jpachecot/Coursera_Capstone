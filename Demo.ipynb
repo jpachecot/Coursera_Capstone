Data Science Coursera Capstone

The Aim of this notebook is to complete the IBM Data Science Coursera Capstone project.

import pandas as pd
import numpy as np

print('Hello Capstone Project Course!')


